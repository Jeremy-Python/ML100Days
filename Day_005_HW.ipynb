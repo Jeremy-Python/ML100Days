{
 "cells": [
  {
   "cell_type": "code",
   "execution_count": 1,
   "metadata": {},
   "outputs": [],
   "source": [
    "import numpy as np"
   ]
  },
  {
   "cell_type": "code",
   "execution_count": 2,
   "metadata": {},
   "outputs": [
    {
     "name": "stdout",
     "output_type": "stream",
     "text": [
      "英文:\n",
      "平均:67.16666666666667\n",
      "最高分:89\n",
      "最低分:48\n",
      "標準差:13.433995020924426\n",
      "\n",
      "\n",
      "數學:\n",
      "平均:66.6\n",
      "最高分:85\n",
      "最低分:60\n",
      "標準差:9.707728879609279\n",
      "\n",
      "\n",
      "國文:\n",
      "平均:75.33333333333333\n",
      "最高分:90\n",
      "最低分:65\n",
      "標準差:8.825468196582484\n"
     ]
    }
   ],
   "source": [
    "#第一題\n",
    "english_score = np.array([55,89,76,65,48,70])\n",
    "math_score = np.array([60,85,60,68,np.nan,60])\n",
    "chinese_score = np.array([65,90,82,72,66,77])\n",
    "print(\"英文:\")\n",
    "print(\"平均:\"+str(np.nanmean(english_score)))\n",
    "print(\"最高分:\"+str(int(np.nanmax(english_score))))\n",
    "print(\"最低分:\"+str(int(np.nanmin(english_score))))\n",
    "print(\"標準差:\"+str(np.nanstd(english_score)))\n",
    "print(\"\\n\")\n",
    "print(\"數學:\")\n",
    "print(\"平均:\"+str(np.nanmean(math_score)))\n",
    "print(\"最高分:\"+str(int(np.nanmax(math_score))))\n",
    "print(\"最低分:\"+str(int(np.nanmin(math_score))))\n",
    "print(\"標準差:\"+str(np.nanstd(math_score)))\n",
    "print(\"\\n\")\n",
    "print(\"國文:\")\n",
    "print(\"平均:\"+str(np.nanmean(chinese_score)))\n",
    "print(\"最高分:\"+str(int(np.nanmax(chinese_score))))\n",
    "print(\"最低分:\"+str(int(np.nanmin(chinese_score))))\n",
    "print(\"標準差:\"+str(np.nanstd(chinese_score)))"
   ]
  },
  {
   "cell_type": "code",
   "execution_count": 3,
   "metadata": {},
   "outputs": [
    {
     "name": "stdout",
     "output_type": "stream",
     "text": [
      "補考後數學平均:64.66666666666667\n",
      "補考後數學最高分:85\n",
      "補考後數學最低分:55\n",
      "補考後數學標準差:9.860132971832694\n"
     ]
    }
   ],
   "source": [
    "#第二題\n",
    "math_score[4]=55\n",
    "print(\"補考後數學平均:\"+str(np.mean(math_score)))\n",
    "print(\"補考後數學最高分:\"+str(int(np.max(math_score))))\n",
    "print(\"補考後數學最低分:\"+str(int(np.min(math_score))))\n",
    "print(\"補考後數學標準差:\"+str(np.std(math_score)))"
   ]
  },
  {
   "cell_type": "code",
   "execution_count": 4,
   "metadata": {},
   "outputs": [
    {
     "data": {
      "text/plain": [
       "array([[ True, False],\n",
       "       [False,  True]])"
      ]
     },
     "execution_count": 4,
     "metadata": {},
     "output_type": "execute_result"
    }
   ],
   "source": [
    "#第三題\n",
    "a=np.corrcoef(math_score,chinese_score)\n",
    "b=np.corrcoef(english_score,chinese_score)\n",
    "np.greater_equal(abs(a), abs(b))"
   ]
  },
  {
   "cell_type": "code",
   "execution_count": 5,
   "metadata": {},
   "outputs": [],
   "source": [
    "#英文和國文的相關係數較高"
   ]
  }
 ],
 "metadata": {
  "kernelspec": {
   "display_name": "Python 3",
   "language": "python",
   "name": "python3"
  },
  "language_info": {
   "codemirror_mode": {
    "name": "ipython",
    "version": 3
   },
   "file_extension": ".py",
   "mimetype": "text/x-python",
   "name": "python",
   "nbconvert_exporter": "python",
   "pygments_lexer": "ipython3",
   "version": "3.8.5"
  }
 },
 "nbformat": 4,
 "nbformat_minor": 4
}
