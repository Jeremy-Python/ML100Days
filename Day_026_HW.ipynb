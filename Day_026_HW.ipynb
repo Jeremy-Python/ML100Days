{
 "cells": [
  {
   "cell_type": "markdown",
   "metadata": {},
   "source": [
    "## 作業:\n",
    "今天學到不同統計量之間特性，  \n",
    "試著分析男生女生身高資料，  \n",
    "試著回答下面的問題:  \n",
    "Q1:試著用今天所教的內容，如何描述這兩組資料的樣態?    \n",
    "Q2: 請問男生和女生在平均身高上誰比較高?   \n",
    "Q3:請問第二題的答案和日常生活中觀察的一致嗎? 如果不一致，你覺得原因可能為何?    \n",
    "上述問題透過  python 語法進行運算，\n",
    "並將上述答案填寫在 (google 表單)[https://forms.gle/EDdU2Zfq8zLvDea18]\n",
    "![](作業資料圖檔.PNG)"
   ]
  },
  {
   "cell_type": "code",
   "execution_count": 1,
   "metadata": {
    "colab": {
     "base_uri": "https://localhost:8080/",
     "height": 34
    },
    "colab_type": "code",
    "executionInfo": {
     "elapsed": 1558,
     "status": "ok",
     "timestamp": 1578021044012,
     "user": {
      "displayName": "Mora chen",
      "photoUrl": "https://lh3.googleusercontent.com/a-/AAuE7mB40f7sDArbZ5_DYq02nNcnLD0Ryaf7AhsASSQeLQ=s64",
      "userId": "03171203089166907199"
     },
     "user_tz": -480
    },
    "id": "yz28_IgkYdBW",
    "outputId": "a12f486c-18b3-4fb5-d06c-f162aebd9444"
   },
   "outputs": [],
   "source": [
    "# library\n",
    "import matplotlib.pyplot as plt\n",
    "import numpy as np\n",
    "import pandas as pd\n",
    "from scipy import stats\n",
    "import math\n",
    "import statistics\n",
    "import seaborn as sns"
   ]
  },
  {
   "cell_type": "code",
   "execution_count": 2,
   "metadata": {},
   "outputs": [],
   "source": [
    "# 輸入資料\n",
    "boys=[164,175,183,173,176,159,165,165,169,151,156,163,169,144,170,177,165,160,164,171]\n",
    "girls=[169,170,162,154,183,173,169,167,170,185,162,175,168,151,181,170,182,156,159,160]"
   ]
  },
  {
   "cell_type": "code",
   "execution_count": 3,
   "metadata": {},
   "outputs": [],
   "source": [
    "def rangeV(x):\n",
    "    return(np.max(x)-np.min(x))"
   ]
  },
  {
   "cell_type": "code",
   "execution_count": 4,
   "metadata": {},
   "outputs": [
    {
     "name": "stdout",
     "output_type": "stream",
     "text": [
      "平均值:\n",
      "男:165.95\n",
      "女:168.3\n",
      "中位數:\n",
      "男:165.0\n",
      "女:169.0\n",
      "眾數:\n",
      "男:165\n",
      "女:170\n",
      "全距:\n",
      "男:39\n",
      "女:34\n",
      "變異數:\n",
      "男:80.64750000000001\n",
      "女:90.60999999999999\n",
      "偏度:\n",
      "男:-0.4713212731737694\n",
      "女:0.059853211293650746\n",
      "峰度:\n",
      "男:0.19395882957876243\n",
      "女:-0.8203607083948947\n"
     ]
    }
   ],
   "source": [
    "#Q1:試著用今天所教的內容，如何描述這兩組資料的樣態?\n",
    "#暗示:  分別計算男生和女生的統計量\n",
    "print(\"平均值:\")\n",
    "print(\"男:\"+str(np.mean(boys)))\n",
    "print(\"女:\"+str(np.mean(girls)))\n",
    "print(\"中位數:\")\n",
    "print(\"男:\"+str(np.median(boys)))\n",
    "print(\"女:\"+str(np.median(girls)))\n",
    "print(\"眾數:\")\n",
    "print(\"男:\"+str(stats.mode(boys)[0][0]))\n",
    "print(\"女:\"+str(stats.mode(girls)[0][0]))\n",
    "print(\"全距:\")\n",
    "print(\"男:\"+str(rangeV(boys)))\n",
    "print(\"女:\"+str(rangeV(girls)))\n",
    "print(\"變異數:\")\n",
    "print(\"男:\"+str(np.var(boys)))\n",
    "print(\"女:\"+str(np.var(girls)))\n",
    "print(\"偏度:\")\n",
    "print(\"男:\"+str(stats.skew(boys)))\n",
    "print(\"女:\"+str(stats.skew(girls)))\n",
    "print(\"峰度:\")\n",
    "print(\"男:\"+str(stats.kurtosis(boys)))\n",
    "print(\"女:\"+str(stats.kurtosis(girls)))"
   ]
  },
  {
   "cell_type": "code",
   "execution_count": 5,
   "metadata": {},
   "outputs": [
    {
     "name": "stdout",
     "output_type": "stream",
     "text": [
      "女生\n"
     ]
    }
   ],
   "source": [
    "#Q2: 請問男生和女生在平均身高上誰比較高? \n",
    "print(\"女生\")"
   ]
  },
  {
   "cell_type": "code",
   "execution_count": 6,
   "metadata": {},
   "outputs": [
    {
     "name": "stdout",
     "output_type": "stream",
     "text": [
      "因為這不是母體，而是從母體中隨機抽出的樣本，故不能代表整個母體。\n"
     ]
    }
   ],
   "source": [
    "#Q3:請問第二題的答案和日常生活中觀察的一致嗎? 如果不一致，你覺得原因可能為何? \n",
    "print(\"因為這不是母體，而是從母體中隨機抽出的樣本，故不能代表整個母體。\")"
   ]
  }
 ],
 "metadata": {
  "colab": {
   "name": "Day33.YOLO 細節理解 - 網路輸出的後處理_HW.ipynb",
   "provenance": []
  },
  "kernelspec": {
   "display_name": "Python 3",
   "language": "python",
   "name": "python3"
  },
  "language_info": {
   "codemirror_mode": {
    "name": "ipython",
    "version": 3
   },
   "file_extension": ".py",
   "mimetype": "text/x-python",
   "name": "python",
   "nbconvert_exporter": "python",
   "pygments_lexer": "ipython3",
   "version": "3.8.5"
  }
 },
 "nbformat": 4,
 "nbformat_minor": 1
}
