{
 "cells": [
  {
   "cell_type": "code",
   "execution_count": 2,
   "metadata": {},
   "outputs": [],
   "source": [
    "import pandas as pd"
   ]
  },
  {
   "cell_type": "code",
   "execution_count": 8,
   "metadata": {},
   "outputs": [],
   "source": [
    "index = pd.date_range(\"1/1/2019\", periods=20, freq='D')\n",
    "series = pd.Series(range(20), index=index)"
   ]
  },
  {
   "cell_type": "code",
   "execution_count": 11,
   "metadata": {},
   "outputs": [
    {
     "data": {
      "text/plain": [
       "PeriodIndex(['2018-12-31/2019-01-06', '2019-01-07/2019-01-13',\n",
       "             '2019-01-14/2019-01-20', '2019-01-21/2019-01-27',\n",
       "             '2019-01-28/2019-02-03', '2019-02-04/2019-02-10',\n",
       "             '2019-02-11/2019-02-17', '2019-02-18/2019-02-24',\n",
       "             '2019-02-25/2019-03-03', '2019-03-04/2019-03-10',\n",
       "             '2019-03-11/2019-03-17', '2019-03-18/2019-03-24',\n",
       "             '2019-03-25/2019-03-31', '2019-04-01/2019-04-07',\n",
       "             '2019-04-08/2019-04-14', '2019-04-15/2019-04-21',\n",
       "             '2019-04-22/2019-04-28', '2019-04-29/2019-05-05',\n",
       "             '2019-05-06/2019-05-12', '2019-05-13/2019-05-19'],\n",
       "            dtype='period[W-SUN]', freq='W-SUN')"
      ]
     },
     "execution_count": 11,
     "metadata": {},
     "output_type": "execute_result"
    }
   ],
   "source": [
    "index.to_period(freq='W')"
   ]
  },
  {
   "cell_type": "code",
   "execution_count": null,
   "metadata": {},
   "outputs": [],
   "source": []
  }
 ],
 "metadata": {
  "kernelspec": {
   "display_name": "Python 3",
   "language": "python",
   "name": "python3"
  },
  "language_info": {
   "codemirror_mode": {
    "name": "ipython",
    "version": 3
   },
   "file_extension": ".py",
   "mimetype": "text/x-python",
   "name": "python",
   "nbconvert_exporter": "python",
   "pygments_lexer": "ipython3",
   "version": "3.8.5"
  }
 },
 "nbformat": 4,
 "nbformat_minor": 4
}
