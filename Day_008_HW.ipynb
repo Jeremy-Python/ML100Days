{
 "cells": [
  {
   "cell_type": "code",
   "execution_count": 1,
   "metadata": {},
   "outputs": [],
   "source": [
    "import numpy as np"
   ]
  },
  {
   "cell_type": "code",
   "execution_count": 2,
   "metadata": {},
   "outputs": [],
   "source": [
    "name_list = ['小明','小華','小菁','小美','小張','John','Mark','Tom']\n",
    "sex_list = ['boy','boy','girl','girl','boy','boy','boy','boy']\n",
    "weight_list = [67.5,75.3,50.1,45.5,80.8,90.4,78.4,70.7]\n",
    "rank_list = [8,1,5,4,7,6,2,3]\n",
    "myopia_list = [True,True,False,False,True,True,False,False]"
   ]
  },
  {
   "cell_type": "code",
   "execution_count": 3,
   "metadata": {},
   "outputs": [
    {
     "name": "stdout",
     "output_type": "stream",
     "text": [
      "[('小明', 'boy', 67.5, 8,  True) ('小華', 'boy', 75.3, 1,  True)\n",
      " ('小菁', 'girl', 50.1, 5, False) ('小美', 'girl', 45.5, 4, False)\n",
      " ('小張', 'boy', 80.8, 7,  True) ('John', 'boy', 90.4, 6,  True)\n",
      " ('Mark', 'boy', 78.4, 2, False) ('Tom', 'boy', 70.7, 3, False)]\n"
     ]
    }
   ],
   "source": [
    "#第一題\n",
    "dt=np.dtype({'names':('name','sex','weight','rank','myopia'),'formats':('U4','U4','f8','i8','?')})\n",
    "a=np.zeros(8,dtype=dt)\n",
    "a['name']=name_list\n",
    "a['sex']=sex_list\n",
    "a['weight']=weight_list\n",
    "a['rank']=rank_list\n",
    "a['myopia']=myopia_list\n",
    "print(a)"
   ]
  },
  {
   "cell_type": "code",
   "execution_count": 4,
   "metadata": {},
   "outputs": [
    {
     "name": "stdout",
     "output_type": "stream",
     "text": [
      "全部平均體重69.8375\n"
     ]
    }
   ],
   "source": [
    "#第二題\n",
    "average_weight=np.mean(a['weight'])\n",
    "print(\"全部平均體重\"+str(average_weight))"
   ]
  },
  {
   "cell_type": "code",
   "execution_count": 5,
   "metadata": {},
   "outputs": [
    {
     "name": "stdout",
     "output_type": "stream",
     "text": [
      "男生平均體重77.18333333333332\n",
      "女生平均體重47.8\n"
     ]
    }
   ],
   "source": [
    "#第三題\n",
    "average_weight_boy=np.mean(a[a['sex']=='boy']['weight'])\n",
    "average_weight_girl=np.mean(a[a['sex']=='girl']['weight'])\n",
    "print(\"男生平均體重\"+str(average_weight_boy))\n",
    "print(\"女生平均體重\"+str(average_weight_girl))"
   ]
  }
 ],
 "metadata": {
  "kernelspec": {
   "display_name": "Python 3",
   "language": "python",
   "name": "python3"
  },
  "language_info": {
   "codemirror_mode": {
    "name": "ipython",
    "version": 3
   },
   "file_extension": ".py",
   "mimetype": "text/x-python",
   "name": "python",
   "nbconvert_exporter": "python",
   "pygments_lexer": "ipython3",
   "version": "3.8.5"
  }
 },
 "nbformat": 4,
 "nbformat_minor": 4
}
