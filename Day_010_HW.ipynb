{
 "cells": [
  {
   "cell_type": "code",
   "execution_count": 1,
   "metadata": {},
   "outputs": [],
   "source": [
    "import pandas as pd"
   ]
  },
  {
   "cell_type": "code",
   "execution_count": 2,
   "metadata": {},
   "outputs": [
    {
     "name": "stdout",
     "output_type": "stream",
     "text": [
      "      open   close\n",
      "0   102.45  103.35\n",
      "3   102.00  102.55\n",
      "5   102.75  103.00\n",
      "6   101.75  102.30\n",
      "7   102.80  103.20\n",
      "8   103.20  103.25\n",
      "9   103.50  104.55\n",
      "10  104.45  104.95\n",
      "19  101.35  102.30\n",
      "21  102.75  103.00\n",
      "1   104.00  104.25\n",
      "2   104.00  104.80\n",
      "3   105.45  106.20\n",
      "4   106.70  107.05\n",
      "9   105.65  106.60\n",
      "12  105.70  106.10\n"
     ]
    }
   ],
   "source": [
    "data1=pd.read_csv(\"STOCK_DAY_0050_202009.csv\")\n",
    "data2=pd.read_csv(\"STOCK_DAY_0050_202010.csv\")\n",
    "new_data=data1.append(data2)\n",
    "print(new_data.loc[(new_data.open<new_data.close),['open','close']])"
   ]
  }
 ],
 "metadata": {
  "kernelspec": {
   "display_name": "Python 3",
   "language": "python",
   "name": "python3"
  },
  "language_info": {
   "codemirror_mode": {
    "name": "ipython",
    "version": 3
   },
   "file_extension": ".py",
   "mimetype": "text/x-python",
   "name": "python",
   "nbconvert_exporter": "python",
   "pygments_lexer": "ipython3",
   "version": "3.8.5"
  }
 },
 "nbformat": 4,
 "nbformat_minor": 4
}
